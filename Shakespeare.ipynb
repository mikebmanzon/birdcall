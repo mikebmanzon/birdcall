{
  "nbformat": 4,
  "nbformat_minor": 0,
  "metadata": {
    "colab": {
      "name": "Copy of PS1-Shakespeare.ipynb",
      "provenance": [],
      "collapsed_sections": [],
      "include_colab_link": true
    },
    "kernelspec": {
      "name": "python3",
      "display_name": "Python 3"
    }
  },
  "cells": [
    {
      "cell_type": "markdown",
      "metadata": {
        "id": "view-in-github",
        "colab_type": "text"
      },
      "source": [
        "<a href=\"https://colab.research.google.com/github/mikebmanzon/birdcall/blob/main/Shakespeare.ipynb\" target=\"_parent\"><img src=\"https://colab.research.google.com/assets/colab-badge.svg\" alt=\"Open In Colab\"/></a>"
      ]
    },
    {
      "cell_type": "markdown",
      "metadata": {
        "id": "ghmXbcymaHxC"
      },
      "source": [
        "In this experiment, you will train models to distringuish examples of two different genres of Shakespeare's plays: comedies and tragedies. (We'll ignore the histories, sonnets, etc.) Since he died four hundred years ago, Shakespeare has not written any more plays—although scraps of various other works have come to light. We are not, therefore, interested in building models simply to help categorize an unbounded stream of future documents, as we might be in other applications of text classification; rather, we are interested in what a classifier might have to tell us about what we mean by the terms “comedy” and “tragedy”.\n",
        "\n",
        "You will start by copying and running your `createBasicFeatures` function from the experiment with movie reviews. Do the features the classifier focuses on tell you much about comedy and tragedy in general?\n",
        "\n",
        "You will then implement another featurization function `createInterestingFeatures`, which will focus on only those features you think are informative for distinguishing between comedy and tragedy. Accuracy on leave-one-out cross-validation may go up, but it more important to look at the features given the highest weight by the classifier. Interpretability in machine learning, of course, may be harder to define than accuracy—although accuracy at some tasks such as summarization is hard enoough."
      ]
    },
    {
      "cell_type": "code",
      "metadata": {
        "id": "AdVS67_HNRmW"
      },
      "source": [
        "import json\n",
        "import requests\n",
        "from sklearn.linear_model import LogisticRegression\n",
        "from sklearn.model_selection import cross_validate,LeaveOneOut\n",
        "from sklearn.feature_extraction.text import CountVectorizer\n",
        "from sklearn.feature_extraction.text import TfidfVectorizer\n",
        "from scipy.sparse import lil_matrix\n",
        "from scipy.sparse import hstack\n",
        "import numpy as np"
      ],
      "execution_count": 499,
      "outputs": []
    },
    {
      "cell_type": "code",
      "metadata": {
        "id": "PzjMY8fYQbB6"
      },
      "source": [
        "#read in the shakespeare corpus\n",
        "def readShakespeare():\n",
        "  raw = requests.get(\"https://raw.githubusercontent.com/mutherr/CS6120-PS1-data/master/shakespeare_plays.json\").text.strip()\n",
        "  corpus = [json.loads(line) for line in raw.split(\"\\n\")]\n",
        "\n",
        "  #remove histories from the data, as we're only working with tragedies and comedies\n",
        "  corpus = [entry for entry in corpus if entry[\"genre\"] != \"history\"]\n",
        "  return corpus"
      ],
      "execution_count": 500,
      "outputs": []
    },
    {
      "cell_type": "markdown",
      "metadata": {
        "id": "v0r3oL3TdHIU"
      },
      "source": [
        "This is where you will implement two functions to featurize the data:"
      ]
    },
    {
      "cell_type": "code",
      "metadata": {
        "id": "039fPQcF7OkN"
      },
      "source": [
        "#NB: The current contents are for testing only\n",
        "#This function should return: \n",
        "#  -a sparse numpy matrix of document features\n",
        "#  -a list of the correct genre for each document\n",
        "#  -a list of the vocabulary used by the features, such that the ith term of the\n",
        "#    list is the word whose counts appear in the ith column of the matrix. \n",
        "\n",
        "# This function should create a feature representation using all tokens that\n",
        "# contain an alphabetic character.\n",
        "def createBasicFeatures(corpus):\n",
        "  #Your code here\n",
        "\n",
        "  vectorizer = CountVectorizer(token_pattern=r'\\b\\S*[a-z]+\\S*\\b')\n",
        "  texts = vectorizer.fit_transform([doc['text'] for doc in corpus])\n",
        "  vocab = vectorizer.get_feature_names()\n",
        "  genres = [doc['genre'] for doc in corpus]\n",
        "\n",
        "  return texts,genres,vocab\n",
        "\n",
        "# This function can add other features you want that help classification\n",
        "# accuracy, such as bigrams, word prefixes and suffixes, etc.\n",
        "def createInterestingFeatures(corpus):\n",
        "  #Your code here\n",
        "  \"\"\"\n",
        "  reg_pattern = r'\\b\\S*[a-z]\\S*\\b'\n",
        "  # tried using prefix and suffix patterns as well, but realized that the\n",
        "  # shakespeare corpus doesn't include any hyphens\n",
        "  prefix_pattern = r'\\b\\S*[a-z]\\S*-?\\b'\n",
        "  suffix_pattern = r'\\b-?\\S*[a-z]\\S*?\\b'\n",
        "\n",
        "  # tfidf_vectorizer had MUCH worse accuracy (I'm talking in the 50% range)\n",
        "  tfidf_vectorizer = TfidfVectorizer(token_pattern=reg_pattern)\n",
        "\n",
        "  # tried considering unigrams and bigrams as features, but accuracy suffered\n",
        "  # in L1 and L2 and nothing notable was revealed.\n",
        "  bigram_vectorizer = CountVectorizer(ngram_range=(1,2), token_pattern=reg_pattern, min_df=3, max_df=.7)\n",
        "  \"\"\"\n",
        "  # the most success came from using only unigram token counts as features, \n",
        "  # and setting minimum and maximum document frequencies. This helped\n",
        "  # avoid having common words and play-specific names/locations take too much\n",
        "  # importance. I also tried binary counts for each feature. Names no longer \n",
        "  # appeared as most indicative, which was nice, but archaic words that should\n",
        "  # be indicative of tragedy (like 'murther') did not show up\n",
        "  # when using binary counts. I did find it interesting that 'tragedy' was only \n",
        "  # a highly informative word when using binary counts, but many of the same words\n",
        "  # appeared as highly indicative of both genres in L1.\n",
        "  #\n",
        "  # The clearest dichotomy to me was tradegies featuring more 'mature' ideas\n",
        "  # and occupations (nations like 'rome', powerful people like\n",
        "  # 'general' and 'senators', lofty idealized roles like 'poet'), \n",
        "  # and more gruesome topics ('slain', 'murther', 'ghost', 'witch'),\n",
        "  # while comedies focused on more lay occupations ('shepherd', \n",
        "  # 'clown','tailor') and fantastical elements ('jest', 'fairy'). Even their\n",
        "  # royalty was more lighthearted ('princess' and 'duke'). Some words were still\n",
        "  # considered highly informative for both genres, but there were much fewer of\n",
        "  # them, and they were only at the tail end of the informative lists in L1.\n",
        "  #\n",
        "  # Note: min_df=3 and max_df=.6 gave me the highest accuracy, but names\n",
        "  # were given too much weight for my taste. min_df=0.3 cut out some names,\n",
        "  # and included more militaristic terms for tragedy, while including \n",
        "  # prioritizing words like 'dance' and 'humour' for comedy. However, there\n",
        "  # are only 26 documents, and I felt that requiring a term to appear in at \n",
        "  # least 8 of them was a high bar. min_df=6 gave what I though to be the \n",
        "  # most interesting mix of indicators for tragedy and comedy.\n",
        "  reg_pattern = r'\\b\\S*[a-z]\\S*\\b'\n",
        "\n",
        "  # used stop words to get rid of words I felt were rated to highly, so I \n",
        "  # could find more interesting ones (mainly names)\n",
        "  STOP_WORDS = ['antonio', 'john', 'diana', 'corn', 'jew', 'fish', 'ship', 'bottom']\n",
        "  vectorizer = CountVectorizer(token_pattern=reg_pattern, min_df=6, max_df=.7, stop_words=STOP_WORDS)\n",
        "  texts = vectorizer.fit_transform([doc['text'] for doc in corpus])\n",
        "  vocab = vectorizer.get_feature_names()\n",
        "  genres = [doc['genre'] for doc in corpus]\n",
        "\n",
        "  return texts,genres,vocab"
      ],
      "execution_count": 513,
      "outputs": []
    },
    {
      "cell_type": "code",
      "metadata": {
        "id": "KfTBqBltXe7Y"
      },
      "source": [
        "#given a numpy matrix representation of the features for the training set, the \n",
        "# vector of true classes for each example, and the vocabulary as described \n",
        "# above, this computes the accuracy of the model using leave one out cross \n",
        "# validation and reports the most indicative features for each class\n",
        "def evaluateModel(X,y,vocab,penalty=\"l1\"):\n",
        "  #create and fit the model\n",
        "  model = LogisticRegression(penalty=penalty,solver=\"liblinear\")\n",
        "  results = cross_validate(model,X,y,cv=LeaveOneOut())\n",
        "  \n",
        "  #determine the average accuracy\n",
        "  scores = results[\"test_score\"]\n",
        "  avg_score = sum(scores)/len(scores)\n",
        "  \n",
        "  #determine the most informative features\n",
        "  # this requires us to fit the model to everything, because we need a\n",
        "  # single model to draw coefficients from, rather than 26\n",
        "  model.fit(X,y)\n",
        "  neg_class_prob_sorted = model.coef_[0, :].argsort()\n",
        "  pos_class_prob_sorted = (-model.coef_[0, :]).argsort()\n",
        "\n",
        "  termsToTake = 20\n",
        "  pos_indicators = [vocab[i] for i in neg_class_prob_sorted[:termsToTake]]\n",
        "  neg_indicators = [vocab[i] for i in pos_class_prob_sorted[:termsToTake]]\n",
        "\n",
        "  return avg_score,pos_indicators,neg_indicators\n",
        "\n",
        "def runEvaluation(X,y,vocab):\n",
        "  print(\"----------L1 Norm-----------\")\n",
        "  avg_score,pos_indicators,neg_indicators = evaluateModel(X,y,vocab,\"l1\")\n",
        "  print(\"The model's average accuracy is %f\"%avg_score)\n",
        "  print(\"The most informative terms for pos are: %s\"%pos_indicators)\n",
        "  print(\"The most informative terms for neg are: %s\"%neg_indicators)\n",
        "  #this call will fit a model with L2 normalization\n",
        "  print(\"----------L2 Norm-----------\")\n",
        "  avg_score,pos_indicators,neg_indicators = evaluateModel(X,y,vocab,\"l2\")\n",
        "  print(\"The model's average accuracy is %f\"%avg_score)\n",
        "  print(\"The most informative terms for pos are: %s\"%pos_indicators)\n",
        "  print(\"The most informative terms for neg are: %s\"%neg_indicators)\n",
        "  "
      ],
      "execution_count": 502,
      "outputs": []
    },
    {
      "cell_type": "code",
      "metadata": {
        "id": "mtlbg_aqdcW_"
      },
      "source": [
        "corpus = readShakespeare()"
      ],
      "execution_count": 503,
      "outputs": []
    },
    {
      "cell_type": "markdown",
      "metadata": {
        "id": "vpCqIhiqdhen"
      },
      "source": [
        "Run the following to train and evaluate two models with basic features:"
      ]
    },
    {
      "cell_type": "code",
      "metadata": {
        "id": "4IpJ7PKjvc8I",
        "colab": {
          "base_uri": "https://localhost:8080/"
        },
        "outputId": "16e42f14-b53c-436a-c655-0a25e6699bd6"
      },
      "source": [
        "X,y,vocab = createBasicFeatures(corpus)\n",
        "runEvaluation(X, y, vocab)"
      ],
      "execution_count": 504,
      "outputs": [
        {
          "output_type": "stream",
          "text": [
            "----------L1 Norm-----------\n",
            "The model's average accuracy is 0.653846\n",
            "The most informative terms for pos are: ['you', 'helena', 'duke', 'prospero', 'sir', 'i', 'leontes', 'a', 'private', 'preserving', 'preservers', 'preserver', 'preserved', 'preserve', 'preservative', 'president', 'preservation', 'presents', 'presentment', 'presently']\n",
            "The most informative terms for neg are: ['him', 's', 'iago', 'imogen', 'o', 'brutus', 'lear', 'ham', 'and', 'what', 'rom', 'pretending', 'preserving', 'preservers', 'preserver', 'preserved', 'pretext', 'preserve', 'preservative', 'preservation']\n",
            "----------L2 Norm-----------\n",
            "The model's average accuracy is 0.769231\n",
            "The most informative terms for pos are: ['i', 'you', 'duke', 'prospero', 'a', 'helena', 'your', 'antonio', 'sir', 'leontes', 'hermia', 'for', 'lysander', 'ariel', 'sebastian', 'demetrius', 'camillo', 'stephano', 'me', 'parolles']\n",
            "The most informative terms for neg are: ['iago', 'othello', 's', 'him', 'imogen', 'what', 'lear', 'brutus', 'his', 'cassio', 'o', 'ham', 'our', 'desdemona', 'rom', 'romeo', 'posthumus', 'nurse', 'caesar', 'thy']\n"
          ],
          "name": "stdout"
        }
      ]
    },
    {
      "cell_type": "markdown",
      "metadata": {
        "id": "_FmW9F6ZdoyM"
      },
      "source": [
        "Run the following to train and evaluate two models with features that are interesting for distinguishing comedy and tragedy:"
      ]
    },
    {
      "cell_type": "code",
      "metadata": {
        "id": "BW0Ajs2MdtIC",
        "colab": {
          "base_uri": "https://localhost:8080/"
        },
        "outputId": "34e5272f-28bf-4639-d425-0382344b8643"
      },
      "source": [
        "X,y,vocab = createInterestingFeatures(corpus)\n",
        "runEvaluation(X, y, vocab)"
      ],
      "execution_count": 514,
      "outputs": [
        {
          "output_type": "stream",
          "text": [
            "----------L1 Norm-----------\n",
            "The model's average accuracy is 0.846154\n",
            "The most informative terms for pos are: ['duke', 'signior', 'widow', 'fairy', 'shepherd', 'princess', 'cell', 'page', 'clown', 'preserve', 'presume', 'prevail', 'presents', 'prevent', 'presented', 'press', 'abandon', 'price', 'prey', 'prick']\n",
            "The most informative terms for neg are: ['general', 'castle', 'daughters', 'roman', 'nurse', 'poet', 'painter', 'rome', 'caesar', 'prerogative', 'prepared', 'prepare', 'presents', 'preserve', 'press', 'presented', 'abandon', 'prevail', 'preparation', 'prevent']\n",
            "----------L2 Norm-----------\n",
            "The model's average accuracy is 0.846154\n",
            "The most informative terms for pos are: ['duke', 'signior', 'widow', 'shepherd', 'clown', 'count', 'fairy', 'chain', 'princess', 'ducats', 'bond', 'merchant', 'wood', 'jest', 'wall', 'page', 'bottle', 'burden', 'dance', 'cell']\n",
            "The most informative terms for neg are: ['general', 'murther', 'nurse', 'castle', 'tonight', 'ghost', 'rome', 'roman', 'painter', 'poet', 'whore', 'witch', 'slain', 'daughters', 'mar', 'sons', 'trumpet', 'caesar', 'senators', 'cave']\n"
          ],
          "name": "stdout"
        }
      ]
    },
    {
      "cell_type": "code",
      "metadata": {
        "id": "1iHudrPb5NPY"
      },
      "source": [
        ""
      ],
      "execution_count": 505,
      "outputs": []
    }
  ]
}